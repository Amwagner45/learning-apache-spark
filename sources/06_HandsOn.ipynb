{
 "cells": [
  {
   "cell_type": "code",
   "execution_count": 1,
   "id": "9c4a6280-8dd6-4105-a346-a316cde99e73",
   "metadata": {},
   "outputs": [],
   "source": [
    "import pyspark \n",
    "from pyspark import SparkContext\n",
    "sc = SparkContext()\n",
    "spark = pyspark.sql.SparkSession(sc, jsparkSession=None)"
   ]
  },
  {
   "cell_type": "markdown",
   "id": "c9df2325-1430-483b-9cf3-b63daed8b859",
   "metadata": {},
   "source": [
    "## Import File"
   ]
  },
  {
   "cell_type": "code",
   "execution_count": 2,
   "id": "6ff1d827-f907-4d88-95b4-2fb04e90af7b",
   "metadata": {},
   "outputs": [],
   "source": [
    "df = spark.read.option('InferSchema', 'true').option('header', 'true').csv('BoardGameGeek_12-11-23.csv')"
   ]
  },
  {
   "cell_type": "code",
   "execution_count": 3,
   "id": "78c1f8fe-e7c5-4748-b466-74cbc75d9304",
   "metadata": {},
   "outputs": [
    {
     "name": "stdout",
     "output_type": "stream",
     "text": [
      "+------+--------------------+----+----+-------+-------------+-----------+--------------------+--------------------+\n",
      "|    ID|                Name|Year|Rank|Average|Bayes average|Users rated|                 URL|           Thumbnail|\n",
      "+------+--------------------+----+----+-------+-------------+-----------+--------------------+--------------------+\n",
      "|224517|   Brass: Birmingham|2018|   1|   8.61|        8.421|    42051.0|/boardgame/224517...|https://cf.geekdo...|\n",
      "|161936|Pandemic Legacy: ...|2015|   2|   8.53|        8.386|    51975.0|/boardgame/161936...|https://cf.geekdo...|\n",
      "|174430|          Gloomhaven|2017|   3|   8.61|        8.373|    60305.0|/boardgame/174430...|https://cf.geekdo...|\n",
      "|342942|            Ark Nova|2021|   4|   8.53|         8.32|    37121.0|/boardgame/342942...|https://cf.geekdo...|\n",
      "|233078|Twilight Imperium...|2017|   5|   8.61|        8.242|    22140.0|/boardgame/233078...|https://cf.geekdo...|\n",
      "|167791|   Terraforming Mars|2016|   6|   8.37|        8.221|    94140.0|/boardgame/167791...|https://cf.geekdo...|\n",
      "|316554|      Dune: Imperium|2020|   7|   8.42|        8.209|    39698.0|/boardgame/316554...|https://cf.geekdo...|\n",
      "|291457|Gloomhaven: Jaws ...|2020|   8|   8.47|        8.189|    31584.0|/boardgame/291457...|https://cf.geekdo...|\n",
      "|115746|War of the Ring: ...|2011|   9|   8.53|         8.18|    20141.0|/boardgame/115746...|https://cf.geekdo...|\n",
      "|187645|Star Wars: Rebellion|2016|  10|   8.42|        8.171|    31105.0|/boardgame/187645...|https://cf.geekdo...|\n",
      "|162886|       Spirit Island|2017|  11|   8.35|         8.15|    47601.0|/boardgame/162886...|https://cf.geekdo...|\n",
      "|220308|        Gaia Project|2017|  12|   8.39|        8.129|    25803.0|/boardgame/220308...|https://cf.geekdo...|\n",
      "| 12333|   Twilight Struggle|2005|  13|   8.25|        8.076|    47656.0|/boardgame/12333/...|https://cf.geekdo...|\n",
      "|182028|Through the Ages:...|2015|  14|    8.3|        8.074|    30613.0|/boardgame/182028...|https://cf.geekdo...|\n",
      "|193738| Great Western Trail|2016|  15|   8.21|        8.048|    39644.0|/boardgame/193738...|https://cf.geekdo...|\n",
      "| 84876|The Castles of Bu...|2011|  16|   8.13|        8.009|    59854.0|/boardgame/84876/...|https://cf.geekdo...|\n",
      "|169786|              Scythe|2016|  17|   8.16|        8.006|    79866.0|/boardgame/169786...|https://cf.geekdo...|\n",
      "|173346|      7 Wonders Duel|2015|  18|    8.1|        7.972|    89417.0|/boardgame/173346...|https://cf.geekdo...|\n",
      "|246900|Eclipse: Second D...|2020|  19|   8.48|        7.969|    12107.0|/boardgame/246900...|https://cf.geekdo...|\n",
      "| 28720|   Brass: Lancashire|2007|  20|   8.19|        7.962|    24188.0|/boardgame/28720/...|https://cf.geekdo...|\n",
      "+------+--------------------+----+----+-------+-------------+-----------+--------------------+--------------------+\n",
      "only showing top 20 rows\n",
      "\n"
     ]
    }
   ],
   "source": [
    "df.show()"
   ]
  },
  {
   "cell_type": "code",
   "execution_count": 4,
   "id": "f7e214e9-4984-43cc-87e4-48a0d30173c8",
   "metadata": {},
   "outputs": [
    {
     "name": "stdout",
     "output_type": "stream",
     "text": [
      "root\n",
      " |-- ID: integer (nullable = true)\n",
      " |-- Name: string (nullable = true)\n",
      " |-- Year: string (nullable = true)\n",
      " |-- Rank: integer (nullable = true)\n",
      " |-- Average: double (nullable = true)\n",
      " |-- Bayes average: double (nullable = true)\n",
      " |-- Users rated: double (nullable = true)\n",
      " |-- URL: string (nullable = true)\n",
      " |-- Thumbnail: string (nullable = true)\n",
      "\n"
     ]
    }
   ],
   "source": [
    "df.printSchema()"
   ]
  },
  {
   "cell_type": "markdown",
   "id": "b6a65350-8e05-4fcf-a789-4b655589949d",
   "metadata": {},
   "source": [
    "## Initialize SparkSQL"
   ]
  },
  {
   "cell_type": "code",
   "execution_count": 5,
   "id": "7f827529-bebc-42bb-9118-b336c4470e94",
   "metadata": {},
   "outputs": [],
   "source": [
    "df.createOrReplaceTempView(\"boardgames\")"
   ]
  },
  {
   "cell_type": "code",
   "execution_count": 6,
   "id": "9c09d23c-aa4c-4295-be5d-7a35a3601c04",
   "metadata": {},
   "outputs": [],
   "source": [
    "spark.sql(\n",
    "    '''\n",
    "    select \n",
    "    id,\n",
    "    name, \n",
    "    cast(year as int) year,\n",
    "    rank, \n",
    "    average, \n",
    "    `boardgames`.`Bayes average`,\n",
    "    cast(`boardgames`.`Users rated` as int) `Users rated`,\n",
    "    \"https://boardgamegeek.com\" || url as url\n",
    "    from boardgames\n",
    "    ''').createOrReplaceTempView(\"boardgames\")"
   ]
  },
  {
   "cell_type": "code",
   "execution_count": 7,
   "id": "5b534c52-b843-4a48-8ed8-a007a12d0db6",
   "metadata": {},
   "outputs": [
    {
     "name": "stdout",
     "output_type": "stream",
     "text": [
      "+------+--------------------+----+----+-------+-------------+-----------+--------------------+\n",
      "|    id|                name|year|rank|average|Bayes average|Users rated|                 url|\n",
      "+------+--------------------+----+----+-------+-------------+-----------+--------------------+\n",
      "|224517|   Brass: Birmingham|2018|   1|   8.61|        8.421|      42051|https://boardgame...|\n",
      "|161936|Pandemic Legacy: ...|2015|   2|   8.53|        8.386|      51975|https://boardgame...|\n",
      "|174430|          Gloomhaven|2017|   3|   8.61|        8.373|      60305|https://boardgame...|\n",
      "|342942|            Ark Nova|2021|   4|   8.53|         8.32|      37121|https://boardgame...|\n",
      "|233078|Twilight Imperium...|2017|   5|   8.61|        8.242|      22140|https://boardgame...|\n",
      "|167791|   Terraforming Mars|2016|   6|   8.37|        8.221|      94140|https://boardgame...|\n",
      "|316554|      Dune: Imperium|2020|   7|   8.42|        8.209|      39698|https://boardgame...|\n",
      "|291457|Gloomhaven: Jaws ...|2020|   8|   8.47|        8.189|      31584|https://boardgame...|\n",
      "|115746|War of the Ring: ...|2011|   9|   8.53|         8.18|      20141|https://boardgame...|\n",
      "|187645|Star Wars: Rebellion|2016|  10|   8.42|        8.171|      31105|https://boardgame...|\n",
      "|162886|       Spirit Island|2017|  11|   8.35|         8.15|      47601|https://boardgame...|\n",
      "|220308|        Gaia Project|2017|  12|   8.39|        8.129|      25803|https://boardgame...|\n",
      "| 12333|   Twilight Struggle|2005|  13|   8.25|        8.076|      47656|https://boardgame...|\n",
      "|182028|Through the Ages:...|2015|  14|    8.3|        8.074|      30613|https://boardgame...|\n",
      "|193738| Great Western Trail|2016|  15|   8.21|        8.048|      39644|https://boardgame...|\n",
      "| 84876|The Castles of Bu...|2011|  16|   8.13|        8.009|      59854|https://boardgame...|\n",
      "|169786|              Scythe|2016|  17|   8.16|        8.006|      79866|https://boardgame...|\n",
      "|173346|      7 Wonders Duel|2015|  18|    8.1|        7.972|      89417|https://boardgame...|\n",
      "|246900|Eclipse: Second D...|2020|  19|   8.48|        7.969|      12107|https://boardgame...|\n",
      "| 28720|   Brass: Lancashire|2007|  20|   8.19|        7.962|      24188|https://boardgame...|\n",
      "+------+--------------------+----+----+-------+-------------+-----------+--------------------+\n",
      "only showing top 20 rows\n",
      "\n"
     ]
    }
   ],
   "source": [
    "spark.sql('''select * from boardgames''').show()"
   ]
  },
  {
   "cell_type": "markdown",
   "id": "ea47d9d5-d6e7-48ae-ac0a-b6e406c7fcb2",
   "metadata": {},
   "source": [
    "## Highest Ranked Board Game by Year"
   ]
  },
  {
   "cell_type": "code",
   "execution_count": 8,
   "id": "14912229-0933-485c-9688-74cb5fe14bd8",
   "metadata": {},
   "outputs": [],
   "source": [
    "highestrankedgamebyyear = spark.sql(\n",
    "    '''\n",
    "    select * \n",
    "    from ( \n",
    "        select  row_number() over(partition by year order by rank) as row_num,\n",
    "                boardgames.*\n",
    "        from boardgames\n",
    "        ) bg\n",
    "    where row_num = 1 \n",
    "    and year <= year(current_date) /*some games in dataset were created in 3000 BC, need to remove these dates*/\n",
    "    order by year desc\n",
    "    ''')"
   ]
  },
  {
   "cell_type": "code",
   "execution_count": 9,
   "id": "ae849f18-0026-4ea4-968c-dc32e8ea7d34",
   "metadata": {},
   "outputs": [
    {
     "name": "stdout",
     "output_type": "stream",
     "text": [
      "+-------+------+--------------------+----+----+-------+-------------+-----------+--------------------+\n",
      "|row_num|    id|                name|year|rank|average|Bayes average|Users rated|                 url|\n",
      "+-------+------+--------------------+----+----+-------+-------------+-----------+--------------------+\n",
      "|      1|321608|Hegemony: Lead Yo...|2023| 179|   8.54|        7.357|       3623|https://boardgame...|\n",
      "|      1|295770|          Frosthaven|2022|  42|   8.87|        7.788|       5680|https://boardgame...|\n",
      "|      1|342942|            Ark Nova|2021|   4|   8.53|         8.32|      37121|https://boardgame...|\n",
      "|      1|316554|      Dune: Imperium|2020|   7|   8.42|        8.209|      39698|https://boardgame...|\n",
      "|      1|266507|Clank! Legacy: Ac...|2019|  22|   8.56|        7.948|       8720|https://boardgame...|\n",
      "|      1|224517|   Brass: Birmingham|2018|   1|   8.61|        8.421|      42051|https://boardgame...|\n",
      "|      1|174430|          Gloomhaven|2017|   3|   8.61|        8.373|      60305|https://boardgame...|\n",
      "|      1|167791|   Terraforming Mars|2016|   6|   8.37|        8.221|      94140|https://boardgame...|\n",
      "|      1|161936|Pandemic Legacy: ...|2015|   2|   8.53|        8.386|      51975|https://boardgame...|\n",
      "|      1|164928|             Orléans|2014|  31|   8.06|        7.875|      30143|https://boardgame...|\n",
      "|      1|124361|           Concordia|2013|  24|    8.1|        7.947|      38897|https://boardgame...|\n",
      "|      1|120677|       Terra Mystica|2012|  26|   8.07|        7.911|      46899|https://boardgame...|\n",
      "|      1|115746|War of the Ring: ...|2011|   9|   8.53|         8.18|      20141|https://boardgame...|\n",
      "|      1| 62219|    Dominant Species|2010|  86|   7.82|        7.588|      20753|https://boardgame...|\n",
      "|      1| 40834|  Dominion: Intrigue|2009| 103|   7.69|        7.524|      33309|https://boardgame...|\n",
      "|      1| 35677|            Le Havre|2008|  63|   7.85|        7.685|      30940|https://boardgame...|\n",
      "|      1| 28720|   Brass: Lancashire|2007|  20|   8.19|        7.962|      24188|https://boardgame...|\n",
      "|      1| 25613|Through the Ages:...|2006|  83|   7.85|        7.608|      19185|https://boardgame...|\n",
      "|      1| 12333|   Twilight Struggle|2005|  13|   8.25|        8.076|      47656|https://boardgame...|\n",
      "|      1|  2651|          Power Grid|2004|  60|   7.82|        7.708|      64106|https://boardgame...|\n",
      "+-------+------+--------------------+----+----+-------+-------------+-----------+--------------------+\n",
      "only showing top 20 rows\n",
      "\n"
     ]
    }
   ],
   "source": [
    "highestrankedgamebyyear.show()"
   ]
  },
  {
   "cell_type": "code",
   "execution_count": 10,
   "id": "fe6e8748-8fe3-40aa-b941-f7902cea8977",
   "metadata": {},
   "outputs": [],
   "source": [
    "highestrankedgamebyyear.write.option('header','true').csv('highestrankedgamebyyear.csv', mode='overwrite')"
   ]
  },
  {
   "cell_type": "markdown",
   "id": "4bd0a656-5ac3-4eea-acfa-aec483cf5c8d",
   "metadata": {},
   "source": [
    "## Highest Rated Board Game by Year"
   ]
  },
  {
   "cell_type": "code",
   "execution_count": 11,
   "id": "0c972c5b-bafd-4a91-a06f-2333a74b54c3",
   "metadata": {},
   "outputs": [],
   "source": [
    "bestratedgamebyyear = spark.sql(\n",
    "    '''\n",
    "    select * \n",
    "    from ( \n",
    "        select  row_number() over(partition by year order by rank) as row_num,\n",
    "                boardgames.*\n",
    "        from boardgames\n",
    "        ) bg\n",
    "    where row_num = 1 \n",
    "    and year <= year(current_date) /*some games in dataset were created in 3000 BC, need to remove these dates*/\n",
    "    order by year desc\n",
    "    ''')"
   ]
  },
  {
   "cell_type": "code",
   "execution_count": 12,
   "id": "043fd8b0-44f0-4e4f-a28f-73ac9ee18239",
   "metadata": {},
   "outputs": [
    {
     "name": "stdout",
     "output_type": "stream",
     "text": [
      "+-------+------+--------------------+----+----+-------+-------------+-----------+--------------------+\n",
      "|row_num|    id|                name|year|rank|average|Bayes average|Users rated|                 url|\n",
      "+-------+------+--------------------+----+----+-------+-------------+-----------+--------------------+\n",
      "|      1|321608|Hegemony: Lead Yo...|2023| 179|   8.54|        7.357|       3623|https://boardgame...|\n",
      "|      1|295770|          Frosthaven|2022|  42|   8.87|        7.788|       5680|https://boardgame...|\n",
      "|      1|342942|            Ark Nova|2021|   4|   8.53|         8.32|      37121|https://boardgame...|\n",
      "|      1|316554|      Dune: Imperium|2020|   7|   8.42|        8.209|      39698|https://boardgame...|\n",
      "|      1|266507|Clank! Legacy: Ac...|2019|  22|   8.56|        7.948|       8720|https://boardgame...|\n",
      "|      1|224517|   Brass: Birmingham|2018|   1|   8.61|        8.421|      42051|https://boardgame...|\n",
      "|      1|174430|          Gloomhaven|2017|   3|   8.61|        8.373|      60305|https://boardgame...|\n",
      "|      1|167791|   Terraforming Mars|2016|   6|   8.37|        8.221|      94140|https://boardgame...|\n",
      "|      1|161936|Pandemic Legacy: ...|2015|   2|   8.53|        8.386|      51975|https://boardgame...|\n",
      "|      1|164928|             Orléans|2014|  31|   8.06|        7.875|      30143|https://boardgame...|\n",
      "|      1|124361|           Concordia|2013|  24|    8.1|        7.947|      38897|https://boardgame...|\n",
      "|      1|120677|       Terra Mystica|2012|  26|   8.07|        7.911|      46899|https://boardgame...|\n",
      "|      1|115746|War of the Ring: ...|2011|   9|   8.53|         8.18|      20141|https://boardgame...|\n",
      "|      1| 62219|    Dominant Species|2010|  86|   7.82|        7.588|      20753|https://boardgame...|\n",
      "|      1| 40834|  Dominion: Intrigue|2009| 103|   7.69|        7.524|      33309|https://boardgame...|\n",
      "|      1| 35677|            Le Havre|2008|  63|   7.85|        7.685|      30940|https://boardgame...|\n",
      "|      1| 28720|   Brass: Lancashire|2007|  20|   8.19|        7.962|      24188|https://boardgame...|\n",
      "|      1| 25613|Through the Ages:...|2006|  83|   7.85|        7.608|      19185|https://boardgame...|\n",
      "|      1| 12333|   Twilight Struggle|2005|  13|   8.25|        8.076|      47656|https://boardgame...|\n",
      "|      1|  2651|          Power Grid|2004|  60|   7.82|        7.708|      64106|https://boardgame...|\n",
      "+-------+------+--------------------+----+----+-------+-------------+-----------+--------------------+\n",
      "only showing top 20 rows\n",
      "\n"
     ]
    }
   ],
   "source": [
    "bestratedgamebyyear.show()"
   ]
  },
  {
   "cell_type": "code",
   "execution_count": 13,
   "id": "35b292fa-ae9b-4cf0-b4ad-c65966109f7b",
   "metadata": {},
   "outputs": [],
   "source": [
    "bestratedgamebyyear.write.option('header','true').csv('bestratedgamebyyear.csv', mode='overwrite')"
   ]
  },
  {
   "cell_type": "markdown",
   "id": "16aa8e34-29cd-4e33-9ba7-635479c851d7",
   "metadata": {},
   "source": [
    "## Most Rated Board Game by Year"
   ]
  },
  {
   "cell_type": "code",
   "execution_count": 14,
   "id": "07a8b26e-1e28-4549-9abd-30f65725596c",
   "metadata": {},
   "outputs": [],
   "source": [
    "mostratedgamebyyear = spark.sql(\n",
    "    '''\n",
    "    select * \n",
    "    from ( \n",
    "        select  row_number() over(partition by year order by rank) as row_num,\n",
    "                boardgames.*\n",
    "        from boardgames\n",
    "        ) bg\n",
    "    where row_num = 1 \n",
    "    and year <= year(current_date) /*some games in dataset were created in 3000 BC, need to remove these dates*/\n",
    "    order by year desc\n",
    "    ''')"
   ]
  },
  {
   "cell_type": "code",
   "execution_count": 15,
   "id": "9d11f471-80d5-4231-8504-93713630cbfb",
   "metadata": {},
   "outputs": [
    {
     "name": "stdout",
     "output_type": "stream",
     "text": [
      "+-------+------+--------------------+----+----+-------+-------------+-----------+--------------------+\n",
      "|row_num|    id|                name|year|rank|average|Bayes average|Users rated|                 url|\n",
      "+-------+------+--------------------+----+----+-------+-------------+-----------+--------------------+\n",
      "|      1|321608|Hegemony: Lead Yo...|2023| 179|   8.54|        7.357|       3623|https://boardgame...|\n",
      "|      1|295770|          Frosthaven|2022|  42|   8.87|        7.788|       5680|https://boardgame...|\n",
      "|      1|342942|            Ark Nova|2021|   4|   8.53|         8.32|      37121|https://boardgame...|\n",
      "|      1|316554|      Dune: Imperium|2020|   7|   8.42|        8.209|      39698|https://boardgame...|\n",
      "|      1|266507|Clank! Legacy: Ac...|2019|  22|   8.56|        7.948|       8720|https://boardgame...|\n",
      "|      1|224517|   Brass: Birmingham|2018|   1|   8.61|        8.421|      42051|https://boardgame...|\n",
      "|      1|174430|          Gloomhaven|2017|   3|   8.61|        8.373|      60305|https://boardgame...|\n",
      "|      1|167791|   Terraforming Mars|2016|   6|   8.37|        8.221|      94140|https://boardgame...|\n",
      "|      1|161936|Pandemic Legacy: ...|2015|   2|   8.53|        8.386|      51975|https://boardgame...|\n",
      "|      1|164928|             Orléans|2014|  31|   8.06|        7.875|      30143|https://boardgame...|\n",
      "|      1|124361|           Concordia|2013|  24|    8.1|        7.947|      38897|https://boardgame...|\n",
      "|      1|120677|       Terra Mystica|2012|  26|   8.07|        7.911|      46899|https://boardgame...|\n",
      "|      1|115746|War of the Ring: ...|2011|   9|   8.53|         8.18|      20141|https://boardgame...|\n",
      "|      1| 62219|    Dominant Species|2010|  86|   7.82|        7.588|      20753|https://boardgame...|\n",
      "|      1| 40834|  Dominion: Intrigue|2009| 103|   7.69|        7.524|      33309|https://boardgame...|\n",
      "|      1| 35677|            Le Havre|2008|  63|   7.85|        7.685|      30940|https://boardgame...|\n",
      "|      1| 28720|   Brass: Lancashire|2007|  20|   8.19|        7.962|      24188|https://boardgame...|\n",
      "|      1| 25613|Through the Ages:...|2006|  83|   7.85|        7.608|      19185|https://boardgame...|\n",
      "|      1| 12333|   Twilight Struggle|2005|  13|   8.25|        8.076|      47656|https://boardgame...|\n",
      "|      1|  2651|          Power Grid|2004|  60|   7.82|        7.708|      64106|https://boardgame...|\n",
      "+-------+------+--------------------+----+----+-------+-------------+-----------+--------------------+\n",
      "only showing top 20 rows\n",
      "\n"
     ]
    }
   ],
   "source": [
    "mostratedgamebyyear.show()"
   ]
  },
  {
   "cell_type": "code",
   "execution_count": 16,
   "id": "d677e761-417e-425c-9391-03b88cdbc73a",
   "metadata": {},
   "outputs": [],
   "source": [
    "mostratedgamebyyear.write.option('header','true').csv('mostratedgamebyyear.csv', mode='overwrite')"
   ]
  },
  {
   "cell_type": "code",
   "execution_count": null,
   "id": "c8ba1d3d-bb30-4426-a888-13d5913c51c5",
   "metadata": {},
   "outputs": [],
   "source": []
  }
 ],
 "metadata": {
  "kernelspec": {
   "display_name": "Python 3 (ipykernel)",
   "language": "python",
   "name": "python3"
  },
  "language_info": {
   "codemirror_mode": {
    "name": "ipython",
    "version": 3
   },
   "file_extension": ".py",
   "mimetype": "text/x-python",
   "name": "python",
   "nbconvert_exporter": "python",
   "pygments_lexer": "ipython3",
   "version": "3.11.6"
  }
 },
 "nbformat": 4,
 "nbformat_minor": 5
}
